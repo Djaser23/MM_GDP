{
 "cells": [
  {
   "cell_type": "markdown",
   "metadata": {},
   "source": [
    "# The Relationship Between GDP and Housing Affordability: An Analysis\n",
    "\n",
    "This analysis explores the relationship between Real Gross Domestic Product and the Median Multiple, a key metric of housing affordability that measures the ratio of median house price to median household income. We seek to determine whether a widely accepted measure of economic health correlates with improved housing affordability for the general population.\n",
    "\n",
    "One might reasonably expect that robust economic growth, as measured by GDP, would translate to enhanced quality of life for citizens, including greater access to affordable housing. Housing affordability represents a fundamental component of wellbeing and social stability in modern societies. Its significance extends beyond shelter alone—home ownership has long been associated with achieving the \"American Dream\" and serves as a gateway to middle-class status. As Brent Never, Associate Dean for Budget and Finance at the University of Missouri Kansas City, articulates: \"When you think about what the middle class means conceptually, it means being able to do things like own your home, send your kids to college, be able to invest in your retirement.\" By this standard, housing affordability constitutes a critical indicator of socioeconomic opportunity.\n",
    "\n",
    "The implications of this relationship extend far beyond individual financial concerns. Growing housing unaffordability, despite economic growth, raises profound questions about equity and social cohesion. William A. Galston addresses this in \"The Enduring Vulnerability of Liberal Democracy\" (2020), noting: \"Yet even regulated markets produce inequality, and inequality beyond a certain (albeit hard to specify) point becomes a problem for democracy. Aristotle saw a link between a strong middle class and a stable constitutional order, as did James Madison. Contemporary political science affirms this connection.\"\n",
    "\n",
    "GDP merits particular attention in this analysis due to its ubiquitous role as the premier indicator of economic health. Government officials, economists, financial institutions, and media outlets consistently reference GDP growth as evidence of economic prosperity. According to the International Monetary Fund, \"Economists use many acronyms. One of the most common is GDP, which stands for gross domestic product. It is often cited in newspapers, on the television news, and in reports by governments, central banks, and the business community. It has become widely used as a reference point for the health of national and global economies. When GDP is growing, especially if inflation is not a problem, workers and businesses are generally better off than when it is not.\" However, questions remain about whether this widely-accepted measure of economic success adequately reflects improvements in living standards and housing affordability for the average citizen.\n",
    "\n",
    "At this point, I invite readers to consider the potential relationship between economic growth and housing affordability. If one were to predict this relationship, what might it look like? Does increased productivity, as measured by GDP, encourage investment in population needs, innovation and efficiencies that ultimately reduce housing costs? Alternatively, might there be a moderate or even strong correlation with decreasing affordability as wealth creation drives property values upward? These questions lie at the heart of understanding whether our conventional economic metrics align with everyday quality of life concerns, and I hope you find the following analysis as compelling and thought-provoking as I have found it to be.\n",
    "\n",
    "In the following sections, we will examine historical data on GDP growth alongside trends in the Median Multiple in the United States between the years 1961-2022, analyze potential correlations between these metrics, and explore the implications for economic policy and societal wellbeing. This analysis will help determine whether our conventional measures of economic success align with or diverge from this fundamental aspect of quality of life.\n",
    "\n"
   ]
  },
  {
   "cell_type": "markdown",
   "metadata": {},
   "source": [
    "Dataset and Rationale\n",
    "\n",
    "Data Sources\n",
    "This analysis utilizes authoritative economic data from the Federal Reserve Bank of St. Louis, focusing exclusively on United States metrics. The following datasets were incorporated:\n",
    "\n",
    "- Real Gross Domestic Product (Quarterly: 1947-01-01 to 2024-10-01)\n",
    "- Federal Funds Rate (Monthly: 1954-07-01 to 2025-02-01)\n",
    "- Consumer Price Index for All Urban Consumers (Monthly: [date range needed])\n",
    "- US Unemployment Rate (Monthly: 1947-01-01 to 2025-02-01)\n",
    "- Median Home Price (Quarterly: 1963-01-01 to 2024-10-01)\n",
    "- Real Median Family Income in the United States (Annual: 1953 to 2023)\n",
    "* Links can be found in the citations at the bottom of the report.\n",
    "\n",
    "Data Preprocessing\n",
    "The data preparation process addressed several alignment challenges:\n",
    "\n",
    "1. Temporal alignment: All datasets were trimmed to ensure consistent beginning and end dates.\n",
    "2. Reporting period adjustments: Variables such as income (which represent prior-period activity) were realigned to correspond with corresponding measurements.\n",
    "3. Frequency standardization: Annual metrics such as median income were converted to quarterly measurements using appropriate averaging techniques to enhance analytical granularity.\n",
    "4. Lag variable creation: The Federal Funds Rate was transformed into multiple lagged variables (6, 12, and 18 months) to capture delayed economic intervention effects, though these ultimately had no impact on the final analysis.\n",
    "\n",
    "Primary Analytical Metric\n",
    "Of particular importance is the Median Multiple metric, a housing affordability indicator calculated by dividing median home price by median household income. This established economic measure provides insight into housing affordability trends.\n",
    "\n",
    "As noted in the Demographia 10th Annual International Housing Survey (2024): \"Demographia International Housing Affordability uses a price-to-income ratio, the 'median multiple' to rate middle-income housing affordability. The median multiple is a price-to-income ratio of the median house price divided by the gross median household income. Price-to-income ratios have been widely used, such as by the World Bank, the United Nations, the Organization for International Cooperation and Development (OECD), the Joint Center for Housing Studies at Harvard University and others. Median price and income measures better reflect the economic impacts on middle-income and lower-income households, as opposed to averages, which are skewed upward by the inclusion of the highest incomes and prices.\"\n",
    "\n",
    "Analytical Approach\n",
    "The Median Multiple serves as the response variable in this analysis, with other economic indicators functioning as predictor variables. Multiple linear regression models were developed, with only the most statistically significant relationships presented in the main analysis. A random forest classification model was created to assess predictive capacity by affordability class."
   ]
  },
  {
   "cell_type": "code",
   "execution_count": 1,
   "metadata": {},
   "outputs": [],
   "source": [
    "# Standard imports and abbreviations\n",
    "import pandas as pd\n",
    "import numpy as np\n",
    "import matplotlib.pyplot as plt\n",
    "import statsmodels.api as sm\n",
    "import seaborn as sns\n",
    "\n",
    "\n",
    "# Tools and metrics for linear regression\n",
    "\n",
    "from sklearn.model_selection import train_test_split\n",
    "from sklearn.metrics import mean_squared_error, r2_score\n",
    "# from scipy.interpolate import UnivariateSpline\n",
    "\n",
    "# Needed to provide type hints for functions passed as arguments\n",
    "from typing import Callable"
   ]
  },
  {
   "cell_type": "code",
   "execution_count": 2,
   "metadata": {},
   "outputs": [
    {
     "data": {
      "text/html": [
       "<div>\n",
       "<style scoped>\n",
       "    .dataframe tbody tr th:only-of-type {\n",
       "        vertical-align: middle;\n",
       "    }\n",
       "\n",
       "    .dataframe tbody tr th {\n",
       "        vertical-align: top;\n",
       "    }\n",
       "\n",
       "    .dataframe thead th {\n",
       "        text-align: right;\n",
       "    }\n",
       "</style>\n",
       "<table border=\"1\" class=\"dataframe\">\n",
       "  <thead>\n",
       "    <tr style=\"text-align: right;\">\n",
       "      <th></th>\n",
       "      <th>observation_date</th>\n",
       "      <th>median_home_price</th>\n",
       "    </tr>\n",
       "  </thead>\n",
       "  <tbody>\n",
       "    <tr>\n",
       "      <th>0</th>\n",
       "      <td>1963-01-01</td>\n",
       "      <td>17800</td>\n",
       "    </tr>\n",
       "    <tr>\n",
       "      <th>1</th>\n",
       "      <td>1963-04-01</td>\n",
       "      <td>18000</td>\n",
       "    </tr>\n",
       "    <tr>\n",
       "      <th>2</th>\n",
       "      <td>1963-07-01</td>\n",
       "      <td>17900</td>\n",
       "    </tr>\n",
       "    <tr>\n",
       "      <th>3</th>\n",
       "      <td>1963-10-01</td>\n",
       "      <td>18500</td>\n",
       "    </tr>\n",
       "    <tr>\n",
       "      <th>4</th>\n",
       "      <td>1964-01-01</td>\n",
       "      <td>18500</td>\n",
       "    </tr>\n",
       "  </tbody>\n",
       "</table>\n",
       "</div>"
      ],
      "text/plain": [
       "  observation_date  median_home_price\n",
       "0       1963-01-01              17800\n",
       "1       1963-04-01              18000\n",
       "2       1963-07-01              17900\n",
       "3       1963-10-01              18500\n",
       "4       1964-01-01              18500"
      ]
     },
     "execution_count": 2,
     "metadata": {},
     "output_type": "execute_result"
    }
   ],
   "source": [
    "# Read in Median Home Price\n",
    "\n",
    "# Read the CSV file into a DataFrame\n",
    "home_price_df = pd.read_csv('/Users/douglas/VS_Code/1963-01-01_Med_Home_Price.csv')\n",
    "\n",
    "# Rename columns for easier comprehension\n",
    "home_price_df = home_price_df.rename(columns={\"MSPUS\": \"median_home_price\"})\n",
    "\n",
    "home_price_df.head()"
   ]
  },
  {
   "cell_type": "code",
   "execution_count": 3,
   "metadata": {},
   "outputs": [
    {
     "data": {
      "text/plain": [
       "observation_date     248\n",
       "median_home_price    226\n",
       "dtype: int64"
      ]
     },
     "execution_count": 3,
     "metadata": {},
     "output_type": "execute_result"
    }
   ],
   "source": [
    "# Verify no missing data missing data\n",
    "# home_price_df.isna().sum() \n",
    "home_price_df.isnull().sum() \n",
    "\n",
    "# Count the number of unique values\n",
    "home_price_df.nunique()"
   ]
  },
  {
   "cell_type": "markdown",
   "metadata": {},
   "source": [
    "Observations regarding Median Home Price Data:\n",
    "248 rows representing observations of quarterly data between 1963-01-01 - 2024-10-01"
   ]
  },
  {
   "cell_type": "code",
   "execution_count": 4,
   "metadata": {},
   "outputs": [
    {
     "data": {
      "text/plain": [
       "<bound method NDFrame.head of     observation_date  median_home_price\n",
       "0         1963-01-01              17800\n",
       "1         1963-04-01              18000\n",
       "2         1963-07-01              17900\n",
       "3         1963-10-01              18500\n",
       "4         1964-01-01              18500\n",
       "..               ...                ...\n",
       "243       2023-10-01             423200\n",
       "244       2024-01-01             426800\n",
       "245       2024-04-01             414500\n",
       "246       2024-07-01             415300\n",
       "247       2024-10-01             419200\n",
       "\n",
       "[248 rows x 2 columns]>"
      ]
     },
     "execution_count": 4,
     "metadata": {},
     "output_type": "execute_result"
    }
   ],
   "source": [
    "# Loading income data and inspection\n",
    "\n",
    "income_df = pd.read_csv('/Users/douglas/VS_Code/MedianUS_income1953.csv')\n",
    "# income_df.info\n",
    "\n",
    "# create a copy of raw data\n",
    "income_copy = income_df\n",
    "home_price_copy = home_price_df\n",
    "\n",
    "# rename column for easier interpretability\n",
    "income_copy = income_copy.rename(columns={\"MEFAINUSA672N\": \"median_income\"})\n",
    "\n",
    "# income_copy.dtypes\n",
    "# income_copy.head\n",
    "\n",
    "# Count missing data\n",
    "# income_copy.isna().sum() \n",
    "income_copy.isnull().sum() \n",
    "\n",
    "# Count the number of unique values\n",
    "income_copy.nunique()\n",
    "\n",
    "home_price_copy.head\n"
   ]
  },
  {
   "cell_type": "markdown",
   "metadata": {},
   "source": [
    "Observations regarding Median Income Data:\n",
    "71 rows representing Yearly intervals of Income Data from 1953-01-01 - 2023-01-01\n",
    "In order to be able to combine these datasets I either have to turn the annual data into quarterly data or turn the quarterly data into annual data. \n",
    "Breaking the annual income data into quarters will provide more records and can lead to more granularity.\n",
    "I will also need to ensure that the data is from the same time interval. Records will need to be trimmed from the begining of the income data and the end of the home price data in order to create a matching interval.\n",
    "\n",
    "The first date in the home price dataset is 1963-01-01 and the final date in the income data is 2023-01-01. The income data is given in January. Upon researching documentation on the FRED website and careful reflection I will be treating this data as representing the income of the previous year. This is most likely the way the income is reported given that the associated date is January 1st and the associated years income has not been collected at this timepoint.\n",
    "\n",
    "Therefore I trim the data to match the interval between 1963-01-01 and 2023-01-01. I also move the income data back by 1 year and average it to match the quarterly reporting of home prices."
   ]
  },
  {
   "cell_type": "code",
   "execution_count": 5,
   "metadata": {},
   "outputs": [
    {
     "data": {
      "text/plain": [
       "observation_date    datetime64[ns]\n",
       "median_income                int64\n",
       "dtype: object"
      ]
     },
     "execution_count": 5,
     "metadata": {},
     "output_type": "execute_result"
    }
   ],
   "source": [
    "# can add this to other code blocks to declutter\n",
    "# Change observation_dates to datetime object to prepare for analysis\n",
    "\n",
    "\n",
    "income_copy['observation_date'] = pd.to_datetime(income_copy['observation_date'])\n",
    "home_price_copy['observation_date'] = pd.to_datetime(home_price_copy['observation_date'])\n",
    "income_copy.dtypes\n",
    "# home_price_copy.dtypes\n"
   ]
  },
  {
   "cell_type": "code",
   "execution_count": 6,
   "metadata": {},
   "outputs": [],
   "source": [
    "# Trim to the correct time interval\n",
    "\n",
    "income_copy = income_copy[income_copy['observation_date'] >= '1963-01-01']\n",
    "\n",
    "home_price_copy = home_price_copy[home_price_copy['observation_date'] <= '2023-01-01']\n",
    "\n",
    "# home_price_copy.head\n",
    "# income_copy.head"
   ]
  },
  {
   "cell_type": "code",
   "execution_count": 7,
   "metadata": {},
   "outputs": [
    {
     "name": "stdout",
     "output_type": "stream",
     "text": [
      "244\n",
      "Difference between 2023 and 1962: 61\n"
     ]
    }
   ],
   "source": [
    "# If the median income data was expanded from yearly intervals into quarterly we \n",
    "# would anticipate the same number of rows. \n",
    "print(61*4) # result = 244 instead of 241\n",
    "\n",
    "# Need to investigate why\n",
    "# print(/f'Difference between 2023 and 1963:' 2023-1963)\n",
    "\n",
    "print(f'Difference between 2023 and 1962: {2023 - 1962}')"
   ]
  },
  {
   "cell_type": "code",
   "execution_count": 8,
   "metadata": {},
   "outputs": [
    {
     "name": "stdout",
     "output_type": "stream",
     "text": [
      "year\n",
      "1963    4\n",
      "1964    4\n",
      "1965    4\n",
      "1966    4\n",
      "1967    4\n",
      "       ..\n",
      "2019    4\n",
      "2020    4\n",
      "2021    4\n",
      "2022    4\n",
      "2023    1\n",
      "Length: 61, dtype: int64\n"
     ]
    },
    {
     "name": "stderr",
     "output_type": "stream",
     "text": [
      "/var/folders/4_/dbg0kzhn7354xv35_by_4slr0000gn/T/ipykernel_2575/548841360.py:2: SettingWithCopyWarning: \n",
      "A value is trying to be set on a copy of a slice from a DataFrame.\n",
      "Try using .loc[row_indexer,col_indexer] = value instead\n",
      "\n",
      "See the caveats in the documentation: https://pandas.pydata.org/pandas-docs/stable/user_guide/indexing.html#returning-a-view-versus-a-copy\n",
      "  home_price_copy['year'] = home_price_copy['observation_date'].dt.year\n"
     ]
    }
   ],
   "source": [
    "# Extract year from the observation_date column\n",
    "home_price_copy['year'] = home_price_copy['observation_date'].dt.year\n",
    "\n",
    "# Group by year and count observations\n",
    "observations_per_year = home_price_copy.groupby('year').size()\n",
    "\n",
    "print(observations_per_year)\n",
    "\n",
    "# Results indicate one observation in 2023. This represents the yearly income of 2022\n",
    "# which works out fine for the purposes of this analysis due to it being used to calculate the income in 2022"
   ]
  },
  {
   "cell_type": "markdown",
   "metadata": {},
   "source": [
    "At this point the Median Multiple needs to be engineered with our dataset. \n",
    "\n",
    "This will involve accounting for the fact that the median home price values are given on dates that correspond to the first date in a Quarter but are calculated with the previous Quarters data. \n",
    "For instance an obervation date 2022-01-01 is calculated with data from 10-01-2021 through 12-31-2021. \n",
    "In addition to this the data for Median Income is given on the first of January of the following year. For example 2022-01-01 is the median income for 2021. "
   ]
  },
  {
   "cell_type": "code",
   "execution_count": 9,
   "metadata": {},
   "outputs": [
    {
     "name": "stdout",
     "output_type": "stream",
     "text": [
      "    observation_date  median_home_price  year  median_income  Median_Multiple\n",
      "231       2020-10-01             338600  2020        96430.0         3.511355\n",
      "232       2021-01-01             355000  2021        96430.0         3.681427\n",
      "233       2021-04-01             367800  2021        96430.0         3.814166\n",
      "234       2021-07-01             395200  2021        96430.0         4.098310\n",
      "235       2021-10-01             414000  2021       100800.0         4.107143\n",
      "236       2022-01-01             413500  2022       100800.0         4.102183\n",
      "237       2022-04-01             437700  2022       100800.0         4.342262\n",
      "238       2022-07-01             438000  2022       100800.0         4.345238\n",
      "239       2022-10-01             442600  2022       100800.0         4.390873\n",
      "240       2023-01-01             429000  2023       100800.0         4.255952\n"
     ]
    }
   ],
   "source": [
    "# Convert to datetime # already done\n",
    "# income_copy['observation_date'] = pd.to_datetime(income_copy['observation_date'])\n",
    "# home_price_copy['observation_date'] = pd.to_datetime(home_price_copy['observation_date'])\n",
    "\n",
    "\n",
    "# Apply quarter start to dates for proper grouping\n",
    "income_copy['quarter_date'] = income_copy['observation_date'].dt.to_period('Q').dt.to_timestamp()\n",
    "\n",
    "# Group by quarter and average\n",
    "income_quarterly = income_copy.groupby('quarter_date')['median_income'].mean().reset_index()\n",
    "income_quarterly = income_quarterly.rename(columns={'quarter_date': 'observation_date'})\n",
    "\n",
    "# Shift by 1 year to match the year the income was made\n",
    "income_quarterly['observation_date'] = income_quarterly['observation_date'] - pd.DateOffset(years=1)\n",
    "\n",
    "# Merge with direction='nearest' to find best match\n",
    "df_merged = pd.merge_asof(\n",
    "    home_price_copy.sort_values(\"observation_date\"),\n",
    "    income_quarterly.sort_values(\"observation_date\"),\n",
    "    on=\"observation_date\",\n",
    "    direction='nearest'\n",
    ")\n",
    "\n",
    "# Calculate Median Multiple\n",
    "df_merged[\"Median_Multiple\"] = df_merged[\"median_home_price\"] / df_merged[\"median_income\"]\n",
    "\n",
    "print(df_merged.tail(10))\n"
   ]
  },
  {
   "cell_type": "code",
   "execution_count": 10,
   "metadata": {},
   "outputs": [
    {
     "data": {
      "text/plain": [
       "count    241.000000\n",
       "mean       1.767459\n",
       "std        1.098784\n",
       "min        0.332255\n",
       "25%        0.734886\n",
       "50%        1.688312\n",
       "75%        2.784124\n",
       "max        4.390873\n",
       "Name: Median_Multiple, dtype: float64"
      ]
     },
     "execution_count": 10,
     "metadata": {},
     "output_type": "execute_result"
    }
   ],
   "source": [
    "df_merged['Median_Multiple'].describe()"
   ]
  },
  {
   "cell_type": "code",
   "execution_count": 11,
   "metadata": {},
   "outputs": [
    {
     "data": {
      "text/plain": [
       "<bound method NDFrame.head of     observation_date   real_GDP\n",
       "0         1947-01-01   2182.681\n",
       "1         1947-04-01   2176.892\n",
       "2         1947-07-01   2172.432\n",
       "3         1947-10-01   2206.452\n",
       "4         1948-01-01   2239.682\n",
       "..               ...        ...\n",
       "307       2023-10-01  22960.600\n",
       "308       2024-01-01  23053.545\n",
       "309       2024-04-01  23223.906\n",
       "310       2024-07-01  23400.294\n",
       "311       2024-10-01  23536.293\n",
       "\n",
       "[312 rows x 2 columns]>"
      ]
     },
     "execution_count": 11,
     "metadata": {},
     "output_type": "execute_result"
    }
   ],
   "source": [
    "# import predictor variable: Real GDP\n",
    "\n",
    "# Read the CSV file into a DataFrame\n",
    "GDP_df = pd.read_csv('/Users/douglas/VS_Code/GDPC1-2.csv')\n",
    "\n",
    "# GDP_df.head   # Unitsin Billions of Chained 2017 Dollars\n",
    "# create a copy to work with \n",
    "\n",
    "GDP_df_copy = GDP_df\n",
    "# Rename column for readability\n",
    "GDP_df_copy =GDP_df.rename(columns={\"GDPC1\": \"real_GDP\"})\n",
    "GDP_df_copy.head\n"
   ]
  },
  {
   "cell_type": "code",
   "execution_count": 12,
   "metadata": {},
   "outputs": [
    {
     "data": {
      "text/plain": [
       "<bound method NDFrame.head of     observation_date   real_GDP\n",
       "64        1963-01-01   3893.482\n",
       "65        1963-04-01   3937.183\n",
       "66        1963-07-01   4023.755\n",
       "67        1963-10-01   4050.147\n",
       "68        1964-01-01   4135.553\n",
       "..               ...        ...\n",
       "300       2022-01-01  21903.850\n",
       "301       2022-04-01  21919.222\n",
       "302       2022-07-01  22066.784\n",
       "303       2022-10-01  22249.459\n",
       "304       2023-01-01  22403.435\n",
       "\n",
       "[241 rows x 2 columns]>"
      ]
     },
     "execution_count": 12,
     "metadata": {},
     "output_type": "execute_result"
    }
   ],
   "source": [
    "\n",
    "# Change observation_dates to datetime object to prepare for analysis\n",
    "GDP_df_copy['observation_date'] = pd.to_datetime(GDP_df_copy['observation_date'])\n",
    "# GDP_df_copy.dtypes\n",
    "\n",
    "# Filter the data to match the existing time interval\n",
    "GDP_df_copy = GDP_df_copy[(GDP_df_copy['observation_date'] >= '1963-01-01') & (GDP_df_copy['observation_date'] <= '2023-01-01')]\n",
    "GDP_df_copy.head\n"
   ]
  },
  {
   "cell_type": "code",
   "execution_count": 13,
   "metadata": {},
   "outputs": [
    {
     "name": "stdout",
     "output_type": "stream",
     "text": [
      "     Median_Multiple   real_GDP\n",
      "0           0.334524   3893.482\n",
      "1           0.338282   3937.183\n",
      "2           0.336403   4023.755\n",
      "3           0.334539   4050.147\n",
      "4           0.334539   4135.553\n",
      "..               ...        ...\n",
      "236         4.102183  21903.850\n",
      "237         4.342262  21919.222\n",
      "238         4.345238  22066.784\n",
      "239         4.390873  22249.459\n",
      "240         4.255952  22403.435\n",
      "\n",
      "[241 rows x 2 columns]\n"
     ]
    }
   ],
   "source": [
    "# Explore the correlation between GDP and Median Multiple\n",
    "\n",
    "# Select specific columns from df_merged\n",
    "df_merged_filtered_1 = df_merged[['observation_date', 'Median_Multiple', 'year']] \n",
    "\n",
    "# View the correlation between Real GDP and Median Multiple\n",
    "# Merge the selected columns on 'observation date'\n",
    "# GDP_MM_Correlation_df = pd.merge(df_merged_filtered_1, GDP_df_copy, on='observation_date')\n",
    "\n",
    "# remove the date and year prior to the correlation test...\n",
    "# GDP_MM_Correlation_df2 = GDP_MM_Correlation_df.drop(columns=['observation_date', 'year'])\n",
    "\n",
    "# print(GDP_MM_Correlation_df2)\n",
    "\n",
    "\n",
    "\n",
    "# Consider updating to...\n",
    "\n",
    "# Explore the correlation between GDP and Median Multiple\n",
    "\n",
    "# Select specific columns from df_merged\n",
    "df_merged_filtered = df_merged[['observation_date', 'Median_Multiple', 'year']]\n",
    "\n",
    "# Merge the selected columns with GDP_df_copy on 'observation_date'\n",
    "GDP_MM_Correlation_df = pd.merge(df_merged_filtered, GDP_df_copy, on='observation_date')\n",
    "\n",
    "# Drop the 'observation_date' and 'year' columns before calculating the correlation\n",
    "GDP_MM_Correlation_df = GDP_MM_Correlation_df.drop(columns=['observation_date', 'year'])\n",
    "\n",
    "# Print the resulting DataFrame\n",
    "print(GDP_MM_Correlation_df)\n"
   ]
  },
  {
   "cell_type": "code",
   "execution_count": 14,
   "metadata": {},
   "outputs": [],
   "source": [
    "# df_merged_filtered.head() Used of MM over time chart"
   ]
  },
  {
   "cell_type": "code",
   "execution_count": 15,
   "metadata": {},
   "outputs": [
    {
     "name": "stdout",
     "output_type": "stream",
     "text": [
      "                 Median_Multiple  real_GDP\n",
      "Median_Multiple         1.000000  0.990577\n",
      "real_GDP                0.990577  1.000000\n"
     ]
    }
   ],
   "source": [
    "# Perform the test\n",
    "correlation_matrix = GDP_MM_Correlation_df.corr()\n",
    "print(correlation_matrix)"
   ]
  },
  {
   "cell_type": "markdown",
   "metadata": {},
   "source": [
    "\"The 2024 Demographia International Housing Affordability report uses the following affordability categories based on the median multiple for a given market\"\n",
    "\n",
    "Affordable: 3.0 and under |\n",
    "Moderately Unaffordable 3.1 to 4.0 |\n",
    "Seriously Unaffordable 4.1 to 5.0 |\n",
    "Severely Unaffordable 5.1 to 8.9 |\n",
    "Impossibly Unaffordable 9.0 and Over"
   ]
  },
  {
   "cell_type": "code",
   "execution_count": 16,
   "metadata": {},
   "outputs": [],
   "source": [
    "# add code up create new column for affordability scale"
   ]
  },
  {
   "cell_type": "code",
   "execution_count": 17,
   "metadata": {},
   "outputs": [
    {
     "data": {
      "text/html": [
       "<div>\n",
       "<style scoped>\n",
       "    .dataframe tbody tr th:only-of-type {\n",
       "        vertical-align: middle;\n",
       "    }\n",
       "\n",
       "    .dataframe tbody tr th {\n",
       "        vertical-align: top;\n",
       "    }\n",
       "\n",
       "    .dataframe thead th {\n",
       "        text-align: right;\n",
       "    }\n",
       "</style>\n",
       "<table border=\"1\" class=\"dataframe\">\n",
       "  <thead>\n",
       "    <tr style=\"text-align: right;\">\n",
       "      <th></th>\n",
       "      <th>Median_Multiple</th>\n",
       "      <th>real_GDP</th>\n",
       "    </tr>\n",
       "  </thead>\n",
       "  <tbody>\n",
       "    <tr>\n",
       "      <th>0</th>\n",
       "      <td>0.334524</td>\n",
       "      <td>3893.482</td>\n",
       "    </tr>\n",
       "    <tr>\n",
       "      <th>1</th>\n",
       "      <td>0.338282</td>\n",
       "      <td>3937.183</td>\n",
       "    </tr>\n",
       "    <tr>\n",
       "      <th>2</th>\n",
       "      <td>0.336403</td>\n",
       "      <td>4023.755</td>\n",
       "    </tr>\n",
       "    <tr>\n",
       "      <th>3</th>\n",
       "      <td>0.334539</td>\n",
       "      <td>4050.147</td>\n",
       "    </tr>\n",
       "    <tr>\n",
       "      <th>4</th>\n",
       "      <td>0.334539</td>\n",
       "      <td>4135.553</td>\n",
       "    </tr>\n",
       "  </tbody>\n",
       "</table>\n",
       "</div>"
      ],
      "text/plain": [
       "   Median_Multiple  real_GDP\n",
       "0         0.334524  3893.482\n",
       "1         0.338282  3937.183\n",
       "2         0.336403  4023.755\n",
       "3         0.334539  4050.147\n",
       "4         0.334539  4135.553"
      ]
     },
     "execution_count": 17,
     "metadata": {},
     "output_type": "execute_result"
    }
   ],
   "source": [
    "GDP_MM_Correlation_df.head()"
   ]
  },
  {
   "cell_type": "code",
   "execution_count": 18,
   "metadata": {},
   "outputs": [
    {
     "name": "stdout",
     "output_type": "stream",
     "text": [
      "                            OLS Regression Results                            \n",
      "==============================================================================\n",
      "Dep. Variable:        Median_Multiple   R-squared:                       0.981\n",
      "Model:                            OLS   Adj. R-squared:                  0.981\n",
      "Method:                 Least Squares   F-statistic:                     9657.\n",
      "Date:                Fri, 07 Mar 2025   Prob (F-statistic):          7.66e-165\n",
      "Time:                        21:08:18   Log-Likelihood:                 93.460\n",
      "No. Observations:                 192   AIC:                            -182.9\n",
      "Df Residuals:                     190   BIC:                            -176.4\n",
      "Df Model:                           1                                         \n",
      "Covariance Type:            nonrobust                                         \n",
      "==============================================================================\n",
      "                 coef    std err          t      P>|t|      [0.025      0.975]\n",
      "------------------------------------------------------------------------------\n",
      "const         -0.5873      0.026    -22.248      0.000      -0.639      -0.535\n",
      "real_GDP       0.0002   2.05e-06     98.270      0.000       0.000       0.000\n",
      "==============================================================================\n",
      "Omnibus:                        2.218   Durbin-Watson:                   2.230\n",
      "Prob(Omnibus):                  0.330   Jarque-Bera (JB):                2.061\n",
      "Skew:                           0.059   Prob(JB):                        0.357\n",
      "Kurtosis:                       3.494   Cond. No.                     3.14e+04\n",
      "==============================================================================\n",
      "\n",
      "Notes:\n",
      "[1] Standard Errors assume that the covariance matrix of the errors is correctly specified.\n",
      "[2] The condition number is large, 3.14e+04. This might indicate that there are\n",
      "strong multicollinearity or other numerical problems.\n",
      "Mean Squared Error on Test Set: 0.024359741174010498\n",
      "R-squared on Test Set: 0.9828321066679057\n"
     ]
    }
   ],
   "source": [
    "# Run a Linear Model \n",
    "\n",
    "# Split data into training and testing sets\n",
    "X = GDP_MM_Correlation_df[['real_GDP']]  # Ensure it's a DataFrame\n",
    "Y = GDP_MM_Correlation_df['Median_Multiple']\n",
    "\n",
    "X_train, X_test, Y_train, Y_test = train_test_split(X, Y, test_size=0.2, random_state=5)\n",
    "\n",
    "# Add constant for intercept in OLS regression\n",
    "X_train_sm = sm.add_constant(X_train)\n",
    "X_test_sm = sm.add_constant(X_test)  \n",
    "\n",
    "# Fit the model\n",
    "smodel = sm.OLS(Y_train, X_train_sm).fit()\n",
    "\n",
    "# Print summary of the model\n",
    "print(smodel.summary())\n",
    "\n",
    "# Make predictions on the test set\n",
    "Y_pred = smodel.predict(X_test_sm)\n",
    "\n",
    "# Evaluate the model on the test set\n",
    "mse = mean_squared_error(Y_test, Y_pred)\n",
    "r2 = r2_score(Y_test, Y_pred)\n",
    "\n",
    "print(f\"Mean Squared Error on Test Set: {mse}\")\n",
    "print(f\"R-squared on Test Set: {r2}\")"
   ]
  },
  {
   "cell_type": "markdown",
   "metadata": {},
   "source": [
    "This model performed much better than I expected. The R-squared suggests that 98.2% of the variance in the median multiple can be explained by Real GDP. Note that Real GDP is inflation adjusted GDP so this is a change in actual affordability and is likely due to the devaluation of labor reletive to home values. The F-statistic is very high and the P-value is rounded down to 0 showing a significant effect on the Median Multiple. The Durbin-Watson at 2.230 suggests no strong auto correlation which is good due to time series elements. The high condition number suggests potential multicoliniarity. To address this I scaled the Real GDP predictor."
   ]
  },
  {
   "cell_type": "code",
   "execution_count": 19,
   "metadata": {},
   "outputs": [
    {
     "name": "stdout",
     "output_type": "stream",
     "text": [
      "                            OLS Regression Results                            \n",
      "==============================================================================\n",
      "Dep. Variable:        Median_Multiple   R-squared:                       0.981\n",
      "Model:                            OLS   Adj. R-squared:                  0.981\n",
      "Method:                 Least Squares   F-statistic:                     6360.\n",
      "Date:                Fri, 07 Mar 2025   Prob (F-statistic):          5.09e-148\n",
      "Time:                        21:08:18   Log-Likelihood:                 93.460\n",
      "No. Observations:                 192   AIC:                            -182.9\n",
      "Df Residuals:                     190   BIC:                            -176.4\n",
      "Df Model:                           1                                         \n",
      "Covariance Type:                  HC3                                         \n",
      "==============================================================================\n",
      "                 coef    std err          z      P>|z|      [0.025      0.975]\n",
      "------------------------------------------------------------------------------\n",
      "const          1.7803      0.011    163.729      0.000       1.759       1.802\n",
      "x1             1.0602      0.013     79.750      0.000       1.034       1.086\n",
      "==============================================================================\n",
      "Omnibus:                        2.218   Durbin-Watson:                   2.230\n",
      "Prob(Omnibus):                  0.330   Jarque-Bera (JB):                2.061\n",
      "Skew:                           0.059   Prob(JB):                        0.357\n",
      "Kurtosis:                       3.494   Cond. No.                         1.00\n",
      "==============================================================================\n",
      "\n",
      "Notes:\n",
      "[1] Standard Errors are heteroscedasticity robust (HC3)\n"
     ]
    }
   ],
   "source": [
    "from sklearn.preprocessing import StandardScaler \n",
    "\n",
    "# Scaled model \n",
    "\n",
    "scaler = StandardScaler()\n",
    "X_train_scaled = scaler.fit_transform(X_train)\n",
    "X_test_scaled = scaler.transform(X_test)\n",
    "\n",
    "# add constant \n",
    "X_train_scaled_sm = sm.add_constant(X_train_scaled)\n",
    "X_test_scaled_sm = sm.add_constant(X_test_scaled)\n",
    "\n",
    "# Fit scaled model\n",
    "smodel_scaled = sm.OLS(Y_train, X_train_scaled_sm).fit(cov_type=\"HC3\")\n",
    "print(smodel_scaled.summary())\n",
    "\n",
    "# make predictions with scaled features\n",
    "Y_pred_scaled = smodel_scaled.predict(X_test_scaled_sm)\n"
   ]
  },
  {
   "cell_type": "code",
   "execution_count": 20,
   "metadata": {},
   "outputs": [],
   "source": [
    "# # # Use pd.cut to create the Affordability_Rating column\n",
    "# GDP_MM_Correlation_df['Affordability_Rating'] = pd.cut(\n",
    "#      GDP_MM_Correlation_df['Median_Multiple'],\n",
    "#      bins=[0, 3.0, 4.0, 5.0, float('inf')],\n",
    "#      labels=['Affordable', 'Moderately_Unaffordable', 'Seriously_Unaffordable', 'Severely_Unaffordable'])\n",
    "\n",
    "# # Display the first few rows to verify\n",
    "# GDP_MM_Correlation_df.head() "
   ]
  },
  {
   "cell_type": "code",
   "execution_count": 21,
   "metadata": {},
   "outputs": [
    {
     "data": {
      "text/html": [
       "<div>\n",
       "<style scoped>\n",
       "    .dataframe tbody tr th:only-of-type {\n",
       "        vertical-align: middle;\n",
       "    }\n",
       "\n",
       "    .dataframe tbody tr th {\n",
       "        vertical-align: top;\n",
       "    }\n",
       "\n",
       "    .dataframe thead th {\n",
       "        text-align: right;\n",
       "    }\n",
       "</style>\n",
       "<table border=\"1\" class=\"dataframe\">\n",
       "  <thead>\n",
       "    <tr style=\"text-align: right;\">\n",
       "      <th></th>\n",
       "      <th>Median_Multiple</th>\n",
       "      <th>real_GDP</th>\n",
       "      <th>Affordability_Rating</th>\n",
       "    </tr>\n",
       "  </thead>\n",
       "  <tbody>\n",
       "    <tr>\n",
       "      <th>0</th>\n",
       "      <td>0.334524</td>\n",
       "      <td>3893.482</td>\n",
       "      <td>Affordable</td>\n",
       "    </tr>\n",
       "    <tr>\n",
       "      <th>1</th>\n",
       "      <td>0.338282</td>\n",
       "      <td>3937.183</td>\n",
       "      <td>Affordable</td>\n",
       "    </tr>\n",
       "    <tr>\n",
       "      <th>2</th>\n",
       "      <td>0.336403</td>\n",
       "      <td>4023.755</td>\n",
       "      <td>Affordable</td>\n",
       "    </tr>\n",
       "    <tr>\n",
       "      <th>3</th>\n",
       "      <td>0.334539</td>\n",
       "      <td>4050.147</td>\n",
       "      <td>Affordable</td>\n",
       "    </tr>\n",
       "    <tr>\n",
       "      <th>4</th>\n",
       "      <td>0.334539</td>\n",
       "      <td>4135.553</td>\n",
       "      <td>Affordable</td>\n",
       "    </tr>\n",
       "  </tbody>\n",
       "</table>\n",
       "</div>"
      ],
      "text/plain": [
       "   Median_Multiple  real_GDP Affordability_Rating\n",
       "0         0.334524  3893.482           Affordable\n",
       "1         0.338282  3937.183           Affordable\n",
       "2         0.336403  4023.755           Affordable\n",
       "3         0.334539  4050.147           Affordable\n",
       "4         0.334539  4135.553           Affordable"
      ]
     },
     "execution_count": 21,
     "metadata": {},
     "output_type": "execute_result"
    }
   ],
   "source": [
    "# Use pd.cut to create the Affordability_Rating column\n",
    "GDP_MM_Correlation_df['Affordability_Rating'] = pd.cut(\n",
    "     GDP_MM_Correlation_df['Median_Multiple'],\n",
    "     bins=[0, 3.0, 4.0, float('inf')],\n",
    "     labels=['Affordable', 'Moderately_Unaffordable', 'Seriously_Unaffordable'])\n",
    "\n",
    "# note: this code leaves out higher levels of unaffordability classification \n",
    "# because they are not relevent to this analysis but it should be updated for additional/other data\n",
    "\n",
    "# Display the first few rows to verify\n",
    "GDP_MM_Correlation_df.head() "
   ]
  },
  {
   "cell_type": "code",
   "execution_count": 22,
   "metadata": {},
   "outputs": [],
   "source": [
    "# Define custom colors for Affordability Rating with correct category names\n",
    "colors = {\n",
    "    'Affordable': 'green',\n",
    "    'Moderately_Unaffordable': 'orange',\n",
    "    'Seriously_Unaffordable': 'red'}"
   ]
  },
  {
   "cell_type": "code",
   "execution_count": 23,
   "metadata": {},
   "outputs": [
    {
     "data": {
      "image/png": "[encoded data removed]",
      "text/plain": [
       "<Figure size 1000x700 with 1 Axes>"
      ]
     },
     "metadata": {},
     "output_type": "display_data"
    }
   ],
   "source": [
    "def plot_affordability_vs_gdp(df):\n",
    "    fig, ax = plt.subplots(figsize=(10, 7), facecolor='#e5e5e5')\n",
    "    ax.set_facecolor('#f0f0f0')\n",
    "    \n",
    "    sns.scatterplot(\n",
    "        x=\"real_GDP\",\n",
    "        y=\"Median_Multiple\",\n",
    "        hue=\"Affordability_Rating\",\n",
    "        palette=colors,\n",
    "        data=GDP_MM_Correlation_df,\n",
    "        s=80,\n",
    "        alpha=0.7,\n",
    "        ax=ax\n",
    "    )\n",
    "    \n",
    "    sns.regplot(\n",
    "        x=\"real_GDP\",\n",
    "        y=\"Median_Multiple\",\n",
    "        data=df,\n",
    "        scatter=False,\n",
    "        line_kws={'color': 'black', 'linewidth': 1},\n",
    "        ax=ax\n",
    "    )\n",
    "    \n",
    "    ax.set_xlabel(\"Real GDP (Billions of Chained 2017 Dollars)\", fontsize=12)\n",
    "    ax.set_ylabel(\"Median Multiple\", fontsize=12)\n",
    "    ax.set_title(\"Housing Affordability vs. Real GDP\", fontsize=16, pad=20)\n",
    "    ax.legend(title=\"Affordability Rating\", frameon=True, framealpha=0.9)\n",
    "    ax.grid(True, alpha=0.3)\n",
    "    \n",
    "    plt.tight_layout()\n",
    "    plt.show()\n",
    "\n",
    "plot_affordability_vs_gdp(GDP_MM_Correlation_df)"
   ]
  },
  {
   "cell_type": "markdown",
   "metadata": {},
   "source": [
    "Discussion of Linear Regression Analysis:\n",
    "\n",
    "The regression analysis shows a highly significant relationship between the independent variable Real GDP and the dependent variable, the Median_Multiple. The model explains 98.1% of the variance in Median_Multiple based on R^2. The extremely low p-value confirms the statistical significance of the model.\n",
    "\n",
    "Diagnostic Testing\n",
    "\n",
    "The Durbin-Watson statistic is close to 2, suggesting no significant autocorrelation in the residuals.\n",
    "The Omnibus and Jarque-Bera tests (p-values of 0.330 and 0.357 respectively) indicate the residuals are normally distributed.\n",
    "The low condition number (1.00) suggests no multicollinearity issues.\n",
    "\n",
    "There is increase variability in the Median Multiple around 20,000 X billion dollars as indicated in the above chart. Further analysis should be done to assess whether this trend continues and its implications.\n",
    "\n",
    "This analysis should be reviewed and discussed by a subject matter expert. I am not a subject matter expert and am new to statistical analysis. \n",
    "\n",
    "That being said the model does suggest some troubling features regarding the GDP metric and raises questions about its prominence as a measure of health of the economy."
   ]
  },
  {
   "cell_type": "code",
   "execution_count": 24,
   "metadata": {},
   "outputs": [
    {
     "name": "stderr",
     "output_type": "stream",
     "text": [
      "/var/folders/4_/dbg0kzhn7354xv35_by_4slr0000gn/T/ipykernel_2575/3899915258.py:3: SettingWithCopyWarning: \n",
      "A value is trying to be set on a copy of a slice from a DataFrame.\n",
      "Try using .loc[row_indexer,col_indexer] = value instead\n",
      "\n",
      "See the caveats in the documentation: https://pandas.pydata.org/pandas-docs/stable/user_guide/indexing.html#returning-a-view-versus-a-copy\n",
      "  df_merged_filtered['Affordability_Rating'] = pd.cut(\n"
     ]
    }
   ],
   "source": [
    "# Create an Affordability_Rating column for Dataframe with Year for second chart\n",
    "\n",
    "df_merged_filtered['Affordability_Rating'] = pd.cut(\n",
    "     df_merged_filtered['Median_Multiple'],\n",
    "     bins=[0, 3.0, 4.0, float('inf')],\n",
    "     labels=['Affordable', 'Moderately_Unaffordable', 'Seriously_Unaffordable'])\n",
    "\n",
    "# note: this code leaves out higher levels of unaffordability classification \n",
    "# because they are not relevent to this analysis but it should be updated for additional/other data"
   ]
  },
  {
   "cell_type": "code",
   "execution_count": 25,
   "metadata": {},
   "outputs": [
    {
     "data": {
      "image/png": "[encoded data removed]",
      "text/plain": [
       "<Figure size 800x600 with 1 Axes>"
      ]
     },
     "metadata": {},
     "output_type": "display_data"
    }
   ],
   "source": [
    "# import matplotlib.pyplot as plt\n",
    "# import seaborn as sns\n",
    "\n",
    "# Visualize home Median Multiple over time\n",
    "\n",
    "# Define custom colors for Affordability Rating with correct category names\n",
    "colors = {\n",
    "    'Affordable': 'green',\n",
    "    'Moderately_Unaffordable': 'orange',\n",
    "    'Seriously_Unaffordable': 'red'   \n",
    "}\n",
    "\n",
    "# Create figure with gray background\n",
    "fig = plt.figure(figsize=(8, 6))\n",
    "ax = fig.add_subplot(111)\n",
    "ax.set_facecolor('#f0f0f0')  # Light gray for plot area\n",
    "fig.patch.set_facecolor('#e6e6e6')  # Slightly darker gray for figure\n",
    "\n",
    "sns.scatterplot(\n",
    "    data=df_merged_filtered, \n",
    "    x=\"year\", \n",
    "    y=\"Median_Multiple\", \n",
    "    hue=\"Affordability_Rating\", \n",
    "    palette=colors\n",
    ")\n",
    "\n",
    "plt.title(\"Year and Median Multiple Home Affordability Rating in the US between 1963-2022\")\n",
    "plt.tight_layout()\n",
    "plt.show()"
   ]
  },
  {
   "cell_type": "markdown",
   "metadata": {},
   "source": [
    "This graph illustrates the Median Multiple and housing affordability rating trends over time. Following the 2008 Great Financial Crisis, a temporary improvement in affordability emerged, likely due to credit market constraints. This affordability increase may have predominantly benefited individuals with substantial liquid assets, as home lending was severely restricted— a phenomenon warranting further investigation beyond this analysis.\n",
    "\n",
    "Around 2020, the Median Multiple exhibits a dramatic exponential increase. This sharp deterioration in affordability can likely be attributed to a combination of pandemic-related government stimulus programs and significant migration away from urban centers. This dangerous trend requires further analysis and corrective policy interventions to prevent long-term housing market instability and decreased sociatal cohesion."
   ]
  },
  {
   "cell_type": "code",
   "execution_count": 26,
   "metadata": {},
   "outputs": [
    {
     "data": {
      "text/html": [
       "<div>\n",
       "<style scoped>\n",
       "    .dataframe tbody tr th:only-of-type {\n",
       "        vertical-align: middle;\n",
       "    }\n",
       "\n",
       "    .dataframe tbody tr th {\n",
       "        vertical-align: top;\n",
       "    }\n",
       "\n",
       "    .dataframe thead th {\n",
       "        text-align: right;\n",
       "    }\n",
       "</style>\n",
       "<table border=\"1\" class=\"dataframe\">\n",
       "  <thead>\n",
       "    <tr style=\"text-align: right;\">\n",
       "      <th></th>\n",
       "      <th>Median_Multiple</th>\n",
       "      <th>real_GDP</th>\n",
       "      <th>Affordability_Rating</th>\n",
       "    </tr>\n",
       "  </thead>\n",
       "  <tbody>\n",
       "    <tr>\n",
       "      <th>0</th>\n",
       "      <td>0.334524</td>\n",
       "      <td>3893.482</td>\n",
       "      <td>Affordable</td>\n",
       "    </tr>\n",
       "    <tr>\n",
       "      <th>1</th>\n",
       "      <td>0.338282</td>\n",
       "      <td>3937.183</td>\n",
       "      <td>Affordable</td>\n",
       "    </tr>\n",
       "    <tr>\n",
       "      <th>2</th>\n",
       "      <td>0.336403</td>\n",
       "      <td>4023.755</td>\n",
       "      <td>Affordable</td>\n",
       "    </tr>\n",
       "    <tr>\n",
       "      <th>3</th>\n",
       "      <td>0.334539</td>\n",
       "      <td>4050.147</td>\n",
       "      <td>Affordable</td>\n",
       "    </tr>\n",
       "    <tr>\n",
       "      <th>4</th>\n",
       "      <td>0.334539</td>\n",
       "      <td>4135.553</td>\n",
       "      <td>Affordable</td>\n",
       "    </tr>\n",
       "  </tbody>\n",
       "</table>\n",
       "</div>"
      ],
      "text/plain": [
       "   Median_Multiple  real_GDP Affordability_Rating\n",
       "0         0.334524  3893.482           Affordable\n",
       "1         0.338282  3937.183           Affordable\n",
       "2         0.336403  4023.755           Affordable\n",
       "3         0.334539  4050.147           Affordable\n",
       "4         0.334539  4135.553           Affordable"
      ]
     },
     "execution_count": 26,
     "metadata": {},
     "output_type": "execute_result"
    }
   ],
   "source": [
    "# df_merged.head()\n",
    "# df_merged_filtered.head()\n",
    "GDP_MM_Correlation_df.head()"
   ]
  },
  {
   "cell_type": "code",
   "execution_count": 27,
   "metadata": {},
   "outputs": [
    {
     "name": "stdout",
     "output_type": "stream",
     "text": [
      "Best parameters: {'class_weight': 'balanced', 'max_depth': None, 'min_samples_split': 2, 'n_estimators': 100}\n",
      "Balanced accuracy: 0.9605\n",
      "                         precision    recall  f1-score   support\n",
      "\n",
      "             Affordable     0.9815    0.8983    0.9381        59\n",
      "Moderately_Unaffordable     0.9077    0.9833    0.9440        60\n",
      " Seriously_Unaffordable     1.0000    1.0000    1.0000        60\n",
      "\n",
      "               accuracy                         0.9609       179\n",
      "              macro avg     0.9631    0.9605    0.9607       179\n",
      "           weighted avg     0.9630    0.9609    0.9608       179\n",
      "\n"
     ]
    },
    {
     "data": {
      "image/png": "[encoded data removed]",
      "text/plain": [
       "<Figure size 800x600 with 2 Axes>"
      ]
     },
     "metadata": {},
     "output_type": "display_data"
    },
    {
     "data": {
      "image/png": "[encoded data removed]",
      "text/plain": [
       "<Figure size 1200x500 with 2 Axes>"
      ]
     },
     "metadata": {},
     "output_type": "display_data"
    }
   ],
   "source": [
    "# Creation of a random forest classification model\n",
    "from sklearn.ensemble import RandomForestClassifier\n",
    "from sklearn.model_selection import train_test_split, GridSearchCV\n",
    "from sklearn.metrics import classification_report, balanced_accuracy_score, confusion_matrix\n",
    "from imblearn.over_sampling import SMOTE\n",
    "import matplotlib.pyplot as plt\n",
    "\n",
    "\n",
    "# Prepare features and target\n",
    "X = GDP_MM_Correlation_df[[\"real_GDP\"]]\n",
    "y = GDP_MM_Correlation_df[\"Affordability_Rating\"]\n",
    "\n",
    "# Handle imbalanced classes with SMOTE\n",
    "smote = SMOTE(random_state=42)\n",
    "X_resampled, y_resampled = smote.fit_resample(X, y)\n",
    "\n",
    "# Split data\n",
    "X_train, X_test, y_train, y_test = train_test_split(\n",
    "    X_resampled, y_resampled, test_size=0.3, random_state=42, stratify=y_resampled)\n",
    "\n",
    "# Create and train model with more focused hyperparameter optimization\n",
    "param_grid = {\n",
    "    'n_estimators': [100, 200],  \n",
    "    'max_depth': [None, 10, 20],\n",
    "    'min_samples_split': [2, 5],\n",
    "    'class_weight': ['balanced', None]\n",
    "}\n",
    "\n",
    "# Use more CPU cores if available\n",
    "rf = RandomForestClassifier(random_state=42, n_jobs=-1)\n",
    "grid_search = GridSearchCV(rf, param_grid, cv=5, scoring='balanced_accuracy', n_jobs=-1)\n",
    "grid_search.fit(X_train, y_train)\n",
    "\n",
    "# Evaluate best model\n",
    "best_rf = grid_search.best_estimator_\n",
    "y_pred = best_rf.predict(X_test)\n",
    "print(f\"Best parameters: {grid_search.best_params_}\")\n",
    "print(f\"Balanced accuracy: {balanced_accuracy_score(y_test, y_pred):.4f}\")\n",
    "print(classification_report(y_test, y_pred, digits=4))\n",
    "\n",
    "\n",
    "# Create confusion matrix\n",
    "plt.figure(figsize=(8, 6))\n",
    "cm = confusion_matrix(y_test, y_pred)\n",
    "sns.heatmap(cm, annot=True, fmt='d', cmap='Blues', \n",
    "            xticklabels=np.unique(y), yticklabels=np.unique(y))\n",
    "plt.xlabel('Predicted')\n",
    "plt.ylabel('Actual')\n",
    "plt.title('Confusion Matrix')\n",
    "plt.tight_layout()\n",
    "plt.xticks(rotation=45)\n",
    "plt.show()\n",
    "\n",
    "\n",
    "# Show distribution of classes before and after SMOTE\n",
    "plt.figure(figsize=(12, 5))\n",
    "\n",
    "plt.subplot(1, 2, 1)\n",
    "y_counts = GDP_MM_Correlation_df[\"Affordability_Rating\"].value_counts()\n",
    "plt.bar(y_counts.index, y_counts.values)\n",
    "plt.title('Class Distribution Before SMOTE')\n",
    "plt.xticks(rotation=45)\n",
    "\n",
    "plt.subplot(1, 2, 2)\n",
    "y_resampled_counts = pd.Series(y_resampled).value_counts()\n",
    "plt.bar(y_resampled_counts.index, y_resampled_counts.values)\n",
    "plt.title('Class Distribution After SMOTE')\n",
    "plt.xticks(rotation=45)\n",
    "\n",
    "plt.tight_layout()\n",
    "plt.show()"
   ]
  },
  {
   "cell_type": "markdown",
   "metadata": {},
   "source": [
    "Random Forest Classification Results Analysis\n",
    "\n",
    "Model Performance Summary\n",
    "\n",
    "The Random Forest classification model achieved excellent results in predicting housing affordability categories based on GDP data. Using a SMOTE function to balance class distribution the model demonstrates strong predictive capabilities across all affordability classes.\n",
    "\n",
    "Hyperparameter Configuration\n",
    "\n",
    "The optimal model configuration identified through GridSearchCV includes:\n",
    "- 100 decision trees in the ensemble\n",
    "- No maximum depth restriction, allowing trees to grow to their full extent\n",
    "- Minimum of 2 samples required to split an internal node\n",
    "- Balanced class weighting to account for class imbalance in the original dataset\n",
    "\n",
    "Classification Performance by Category\n",
    "\n",
    "The model demonstrated consistent performance across all affordability categories:\n",
    "\n",
    "\n",
    "Implications\n",
    " \n",
    "The model can reliably identify timeframe likely to experience housing affordability challenges based solely on economic output data. This suggests reconsidering GDP growth as inherently positive for society and consideration of other metrics to improve societal cohesion.\n",
    "\n",
    "\n",
    "Next Steps\n",
    "\n",
    "This work should be reviewed with subject matter experts as I do not have subject matter expertise in this area. I am also not experienced with time series analysis and there may be additional considerations that I could have missed.\n",
    "Geographic sub-analysis can and should be done to identify regional variations in the GDP-affordability and evaluate consistency.\n"
   ]
  },
  {
   "cell_type": "markdown",
   "metadata": {},
   "source": [
    "Additional Unremarkable Analysis results:\n",
    "\n",
    "I considered the following other input variables to create a multiple linear regression model:\n",
    "Federal Funds Rate,\n",
    "Consumer Price Index, and\n",
    "Unemployment Rate\n",
    "\n",
    "None of these features performed as well as real gdp with the exception of Consumer Price Index. This is a marker of inflation and indirectly includes home values by including rent paid and potential rent collected. \n",
    "\n",
    "The Brookings website states, \"For rental properties, the BLS counts cash rent paid to the landlord for shelter and included utilities, plus any government subsidies paid to the landlord on the tenant’s behalf. If a unit is owner-occupied, the BLS computes what it would cost to rent that home in the current housing market, known as Owners’ Equivalent Rent (OER). Utilities paid by homeowners are measured separately in the CPI.\"\n",
    "\n",
    "Further analysis and time is needed to discuss in more detail but I decided to leave the dataset out of the main analysis due to it being related to my dependant variable. It is a more expansive measure of inflation and supports similar conclusions regarding an affordability crisis yet is more abstact and therefore does not produce the same emotional response.\n",
    "\n",
    "My descriptions and writing about these models will be limited due to time constaints but my work can be reviewed below."
   ]
  },
  {
   "cell_type": "code",
   "execution_count": 28,
   "metadata": {},
   "outputs": [],
   "source": [
    "# import Federal Funds Rate data\n",
    "# Considerations: FFR is used to act upon the economy\n",
    "# \"Like the federal discount rate, the federal funds rate is used to \n",
    "# control the supply of available funds and hence, inflation and other interest rates.\"\n",
    "# Source: https://www.bankrate.com/rates/interest-rates/federal-funds-rate/\n",
    "# Consider the current observation date taking between 6-18 months to \n",
    "# impact the economy so may want to create a lag where this data\n",
    "# is set backwords 6, 12, and 18 months\n",
    "# This data is given at 1 month intervals and so will need to be\n",
    "# changed to quarterly intervals and imputed\n",
    "\n",
    "fed_funds_df = pd.read_csv('/Users/douglas/VS_Code/FEDFUNDS.csv')\n",
    "income_df.info\n",
    "\n",
    "# create a copy of raw data\n",
    "fed_funds_df_copy = fed_funds_df\n",
    "\n",
    "# Change object to datetime\n",
    "fed_funds_df_copy['observation_date'] = pd.to_datetime(fed_funds_df_copy['observation_date'])\n",
    "\n",
    "# rename column for better readability\n",
    "fed_funds_df_copy = fed_funds_df_copy.rename(columns = {'FEDFUNDS': 'fed_funds_rate'})\n",
    "\n",
    "# Filter the data to match the existing time interval\n",
    "fed_funds_df_copy = fed_funds_df_copy[(fed_funds_df_copy['observation_date'] >= '1962-07-01') & (fed_funds_df_copy['observation_date'] <= '2023-01-01')]\n",
    "\n",
    "# create quarterly intervals instead of yearly\n",
    "rates_quarterly = fed_funds_df_copy.groupby(pd.Grouper(key='observation_date', freq=\"QS\"))['fed_funds_rate'].mean()\n",
    "fed_funds_df_copy = rates_quarterly.to_frame().reset_index()\n",
    "\n",
    "# fed_funds_df_copy.head()\n",
    "\n",
    "# Create lag dataframes\n",
    "fed_funds_6m = fed_funds_df_copy.copy()\n",
    "fed_funds_6m['observation_date'] = fed_funds_6m['observation_date'] - pd.DateOffset(months=6)\n",
    "fed_funds_6m = fed_funds_6m.rename(columns={'fed_funds_rate': 'fed_funds_rate_6m'})\n",
    "\n",
    "fed_funds_12m = fed_funds_df_copy.copy()\n",
    "fed_funds_12m['observation_date'] = fed_funds_12m['observation_date'] - pd.DateOffset(months=12)\n",
    "fed_funds_12m = fed_funds_12m.rename(columns={'fed_funds_rate': 'fed_funds_rate_12m'})\n",
    "\n",
    "fed_funds_18m = fed_funds_df_copy.copy()\n",
    "fed_funds_18m['observation_date'] = fed_funds_18m['observation_date'] - pd.DateOffset(months=18)\n",
    "fed_funds_18m = fed_funds_18m.rename(columns={'fed_funds_rate': 'fed_funds_rate_18m'})\n",
    "\n",
    "# Merge X2 data to use in multiple linear regression with subset selection.\n",
    "\n",
    "\n"
   ]
  },
  {
   "cell_type": "code",
   "execution_count": 29,
   "metadata": {},
   "outputs": [
    {
     "name": "stdout",
     "output_type": "stream",
     "text": [
      "64    1961-07-01\n",
      "65    1961-10-01\n",
      "66    1962-01-01\n",
      "67    1962-04-01\n",
      "68    1962-07-01\n",
      "         ...    \n",
      "300   2020-07-01\n",
      "301   2020-10-01\n",
      "302   2021-01-01\n",
      "303   2021-04-01\n",
      "304   2021-07-01\n",
      "Name: observation_date, Length: 241, dtype: datetime64[ns]\n"
     ]
    }
   ],
   "source": [
    "# Troubleshoot the input variable to match number of records and proper dates\n",
    "\n",
    "# fed_funds_18m.head     # 243 rows which does not match the 241 needed\n",
    "# results of head function show start dates as follows\n",
    "# bound method NDFrame.head of     observation_date  fed_funds_rate_18m\n",
    "# 0         1961-01-01            2.846667             # incorrect start date - must trim to  1961-07-01\n",
    "# 1          1961-04-01            2.923333\n",
    "# 2         1961-07-01            2.966667\n",
    "\n",
    "\n",
    "# Calculate the 18 month date prior to the first date in X1 data (GDP)\n",
    "GDP_df_copy.head() # start date of 1963-01-01 \n",
    "# check 18 months prior \n",
    "print(GDP_df_copy['observation_date'] - pd.DateOffset(months=18)) # first date should be 1961-07-01\n",
    "# by trimming these first two dates off we will have a matching number of records\n",
    "# fed_funds_18m['observation_date'] - pd.DateOffset(months=18)\n",
    "\n",
    "fed_funds_18m = fed_funds_18m[(fed_funds_18m['observation_date'] >= '1961-07-01')]\n",
    "# fed_funds_18m.head()\n",
    "# fed_funds_18.count\n",
    "\n"
   ]
  },
  {
   "cell_type": "code",
   "execution_count": 30,
   "metadata": {},
   "outputs": [],
   "source": [
    "# repeat above process with 6 and 12 month lags\n",
    "# fed_funds_12m.head() # start date: 1961-07-01\t\n",
    "\n",
    "# calculate proper start dates\n",
    "# print(GDP_df_copy['observation_date'] - pd.DateOffset(months=6)) # first date should be 1962-07-01\n",
    "# print(GDP_df_copy['observation_date'] - pd.DateOffset(months=12)) # first date should be 1962-01-01\n",
    "\n",
    "fed_funds_6m = fed_funds_6m[(fed_funds_6m['observation_date'] >= '1962-07-01')]\n",
    "# fed_funds_6m.head() # verified correct start date\n",
    "# fed_funds_6m.count() # verified correct count\n",
    "\n",
    "fed_funds_12m = fed_funds_12m[(fed_funds_12m['observation_date'] >= '1962-01-01')]\n",
    "# fed_funds_12m.head() # verified correct start date\n",
    "# fed_funds_12m.count() # verified correct count\n",
    "\n"
   ]
  },
  {
   "cell_type": "code",
   "execution_count": 31,
   "metadata": {},
   "outputs": [
    {
     "data": {
      "text/plain": [
       "observation_date      241\n",
       "fed_funds_rate_18m    241\n",
       "dtype: int64"
      ]
     },
     "execution_count": 31,
     "metadata": {},
     "output_type": "execute_result"
    }
   ],
   "source": [
    "fed_funds_6m = fed_funds_6m[(fed_funds_6m['observation_date'] >= '1962-07-01')]\n",
    "# fed_funds_6m.head() # verified correct start date\n",
    "fed_funds_18m.count() # verified correct count"
   ]
  },
  {
   "cell_type": "code",
   "execution_count": 32,
   "metadata": {},
   "outputs": [],
   "source": [
    "# Create X_subset_fed_funds_lag as a DataFrame\n",
    "X_subset_fed_funds_lag = pd.DataFrame({\n",
    "    'fed_funds_rate_6m': fed_funds_6m['fed_funds_rate_6m'],\n",
    "    'fed_funds_rate_12m': fed_funds_12m['fed_funds_rate_12m'],\n",
    "    'fed_funds_rate_18m': fed_funds_18m['fed_funds_rate_18m']\n",
    "})\n",
    "\n",
    "# Create Y_fed_funds\n",
    "Y_fed_funds = df_merged[\"Median_Multiple\"]\n",
    "\n",
    "# Check if lengths match\n",
    "if len(Y_fed_funds) != len(X_subset_fed_funds_lag):\n",
    "    raise ValueError(\"Length of Y_fed_funds does not match length of X_subset_fed_funds_lag.\")\n",
    "\n",
    "# Reset indices for X and Y\n",
    "X_subset_fed_funds_lag = X_subset_fed_funds_lag.reset_index(drop=True)\n",
    "Y_fed_funds = Y_fed_funds.reset_index(drop=True)\n"
   ]
  },
  {
   "cell_type": "code",
   "execution_count": 33,
   "metadata": {},
   "outputs": [
    {
     "name": "stdout",
     "output_type": "stream",
     "text": [
      "Predictor: fed_funds_rate_6m\n",
      "  R-squared: 0.3922\n",
      "  Adjusted R-squared: 0.3897\n",
      "  AIC: 612.3328\n",
      "\n",
      "Predictor: fed_funds_rate_12m\n",
      "  R-squared: 0.3922\n",
      "  Adjusted R-squared: 0.3897\n",
      "  AIC: 612.3328\n",
      "\n",
      "Predictor: fed_funds_rate_18m\n",
      "  R-squared: 0.3922\n",
      "  Adjusted R-squared: 0.3897\n",
      "  AIC: 612.3328\n",
      "\n",
      "Best predictor: fed_funds_rate_6m\n"
     ]
    }
   ],
   "source": [
    "import statsmodels.api as sm\n",
    "\n",
    "# List of predictors\n",
    "predictors = ['fed_funds_rate_6m', 'fed_funds_rate_12m', 'fed_funds_rate_18m']\n",
    "\n",
    "# Dictionary to store results\n",
    "results = {}\n",
    "\n",
    "# Fit models for each predictor\n",
    "for predictor in predictors:\n",
    "    X = sm.add_constant(X_subset_fed_funds_lag[predictor])  # Add intercept\n",
    "    model = sm.OLS(Y_fed_funds, X).fit()\n",
    "    results[predictor] = {\n",
    "        'R-squared': model.rsquared,\n",
    "        'Adjusted R-squared': model.rsquared_adj,\n",
    "        'AIC': model.aic\n",
    "    }\n",
    "\n",
    "# Print results\n",
    "for predictor, metrics in results.items():\n",
    "    print(f\"Predictor: {predictor}\")\n",
    "    print(f\"  R-squared: {metrics['R-squared']:.4f}\")\n",
    "    print(f\"  Adjusted R-squared: {metrics['Adjusted R-squared']:.4f}\")\n",
    "    print(f\"  AIC: {metrics['AIC']:.4f}\")\n",
    "    print()\n",
    "\n",
    "# Find the best predictor based on adjusted R-squared\n",
    "best_predictor = max(results, key=lambda x: results[x]['Adjusted R-squared'])\n",
    "print(f\"Best predictor: {best_predictor}\")"
   ]
  },
  {
   "cell_type": "code",
   "execution_count": 34,
   "metadata": {},
   "outputs": [
    {
     "name": "stdout",
     "output_type": "stream",
     "text": [
      "                    fed_funds_rate_6m  fed_funds_rate_12m  fed_funds_rate_18m\n",
      "fed_funds_rate_6m                 1.0                 1.0                 1.0\n",
      "fed_funds_rate_12m                1.0                 1.0                 1.0\n",
      "fed_funds_rate_18m                1.0                 1.0                 1.0\n"
     ]
    }
   ],
   "source": [
    "print(X_subset_fed_funds_lag.corr())"
   ]
  },
  {
   "cell_type": "markdown",
   "metadata": {},
   "source": [
    "There is no benefit to developing this staggered time lag. The R-squared does not warrent further investigation."
   ]
  },
  {
   "cell_type": "code",
   "execution_count": 35,
   "metadata": {},
   "outputs": [],
   "source": [
    "# import Consumer Price Index for All Urban Consumers: All Items in U.S. City Average\n",
    "# This data indirectly includes information on the cost of housing.\n",
    "# There may be issues with using it as a predictor of MM due to this\n",
    "\n",
    "X3_df = pd.read_csv('/Users/douglas/VS_Code/CPIAUCSL.csv')\n",
    "\n",
    "\n",
    "# create a copy of raw data\n",
    "X3_df_copy = X3_df\n",
    "\n",
    "X3_df_copy.head()\n",
    "X3_df_copy.describe()\n",
    "\n",
    "# Change object to datetime\n",
    "X3_df_copy['observation_date'] = pd.to_datetime(X3_df_copy['observation_date'])\n",
    "\n",
    "# rename column for better readability\n",
    "X3_df_copy = X3_df_copy.rename(columns = {'CPIAUCSL': 'consumer_price_index'})\n",
    "\n",
    "# create quarterly intervals instead of yearly\n",
    "cpi_quarterly = X3_df_copy.groupby(pd.Grouper(key='observation_date', freq=\"QS\"))['consumer_price_index'].mean()\n",
    "X3_df_copy = cpi_quarterly.to_frame().reset_index()\n",
    "\n",
    "# Filter the data to match the existing time interval\n",
    "X3_df_copy = X3_df_copy[(X3_df_copy['observation_date'] >= '1963-01-01') & (X3_df_copy['observation_date'] <= '2023-01-01')]\n",
    "# X3_df_copy.head()\n",
    "\n"
   ]
  },
  {
   "cell_type": "code",
   "execution_count": 36,
   "metadata": {},
   "outputs": [
    {
     "name": "stdout",
     "output_type": "stream",
     "text": [
      "                            OLS Regression Results                            \n",
      "==============================================================================\n",
      "Dep. Variable:        Median_Multiple   R-squared:                       0.981\n",
      "Model:                            OLS   Adj. R-squared:                  0.981\n",
      "Method:                 Least Squares   F-statistic:                 1.239e+04\n",
      "Date:                Fri, 07 Mar 2025   Prob (F-statistic):          6.90e-208\n",
      "Time:                        21:08:24   Log-Likelihood:                 113.85\n",
      "No. Observations:                 241   AIC:                            -223.7\n",
      "Df Residuals:                     239   BIC:                            -216.7\n",
      "Df Model:                           1                                         \n",
      "Covariance Type:            nonrobust                                         \n",
      "========================================================================================\n",
      "                           coef    std err          t      P>|t|      [0.025      0.975]\n",
      "----------------------------------------------------------------------------------------\n",
      "const                   -0.2105      0.020    -10.382      0.000      -0.250      -0.171\n",
      "consumer_price_index     0.0140      0.000    111.291      0.000       0.014       0.014\n",
      "==============================================================================\n",
      "Omnibus:                        5.321   Durbin-Watson:                   0.175\n",
      "Prob(Omnibus):                  0.070   Jarque-Bera (JB):                4.994\n",
      "Skew:                           0.311   Prob(JB):                       0.0823\n",
      "Kurtosis:                       3.333   Cond. No.                         335.\n",
      "==============================================================================\n",
      "\n",
      "Notes:\n",
      "[1] Standard Errors assume that the covariance matrix of the errors is correctly specified.\n",
      "R-squared: 0.9811\n",
      "Adjusted R-squared: 0.9810\n",
      "AIC: -223.7014\n"
     ]
    }
   ],
   "source": [
    "import statsmodels.api as sm\n",
    "\n",
    "# Select the predictor\n",
    "predictor = X3_df_copy\n",
    "\n",
    "# Prepare the data\n",
    "X = sm.add_constant(X3_df_copy['consumer_price_index'])  # Add intercept\n",
    "# Create Y\n",
    "Y = df_merged[\"Median_Multiple\"]\n",
    "\n",
    "# Reset indices for X and Y\n",
    "X = X.reset_index(drop=True)\n",
    "Y = Y.reset_index(drop=True)\n",
    "\n",
    "# Fit the model\n",
    "model = sm.OLS(Y, X).fit()\n",
    "\n",
    "# Print model summary\n",
    "print(model.summary())\n",
    "\n",
    "# Extract key metrics\n",
    "r_squared = model.rsquared\n",
    "adjusted_r_squared = model.rsquared_adj\n",
    "aic = model.aic\n",
    "\n",
    "print(f\"R-squared: {r_squared:.4f}\")\n",
    "print(f\"Adjusted R-squared: {adjusted_r_squared:.4f}\")\n",
    "print(f\"AIC: {aic:.4f}\")"
   ]
  },
  {
   "cell_type": "markdown",
   "metadata": {},
   "source": [
    "Pretty impressive result but related to Median Multiple and so I will not explore further."
   ]
  },
  {
   "cell_type": "code",
   "execution_count": 37,
   "metadata": {},
   "outputs": [
    {
     "data": {
      "text/plain": [
       "observation_date     241\n",
       "unemployment_rate    241\n",
       "dtype: int64"
      ]
     },
     "execution_count": 37,
     "metadata": {},
     "output_type": "execute_result"
    }
   ],
   "source": [
    "# import US Unemployment Rate data\n",
    "# This data is monthly and needs to be changed to Quarterly and imputed.\n",
    "\n",
    "\n",
    "X4_df = pd.read_csv('/Users/douglas/VS_Code/UNRATE.csv')\n",
    "income_df.info\n",
    "\n",
    "# create a copy of raw data\n",
    "X4_df_copy = X4_df\n",
    "\n",
    "# X4_df_copy.head()\n",
    "# X4_df_copy.describe()\n",
    "\n",
    "# Change object to datetime\n",
    "X4_df_copy['observation_date'] = pd.to_datetime(X4_df_copy['observation_date'])\n",
    "\n",
    "# rename column for better readability\n",
    "X4_df_copy = X4_df_copy.rename(columns = {'UNRATE': 'unemployment_rate'})\n",
    "\n",
    "# create quarterly intervals instead of yearly\n",
    "unemployement_quarterly = X4_df_copy.groupby(pd.Grouper(key='observation_date', freq=\"QS\"))['unemployment_rate'].mean()\n",
    "X4_df_copy = unemployement_quarterly.to_frame().reset_index()\n",
    "\n",
    "# Filter the data to match the existing time interval\n",
    "X4_df_copy = X4_df_copy[(X4_df_copy['observation_date'] >= '1963-01-01') & (X4_df_copy['observation_date'] <= '2023-01-01')]\n",
    "X4_df_copy.count()\n"
   ]
  },
  {
   "cell_type": "code",
   "execution_count": 38,
   "metadata": {},
   "outputs": [
    {
     "name": "stdout",
     "output_type": "stream",
     "text": [
      "                            OLS Regression Results                            \n",
      "==============================================================================\n",
      "Dep. Variable:        Median_Multiple   R-squared:                       0.002\n",
      "Model:                            OLS   Adj. R-squared:                 -0.003\n",
      "Method:                 Least Squares   F-statistic:                    0.3881\n",
      "Date:                Fri, 07 Mar 2025   Prob (F-statistic):              0.534\n",
      "Time:                        21:08:24   Log-Likelihood:                -363.97\n",
      "No. Observations:                 241   AIC:                             731.9\n",
      "Df Residuals:                     239   BIC:                             738.9\n",
      "Df Model:                           1                                         \n",
      "Covariance Type:            nonrobust                                         \n",
      "=====================================================================================\n",
      "                        coef    std err          t      P>|t|      [0.025      0.975]\n",
      "-------------------------------------------------------------------------------------\n",
      "const                 1.9207      0.256      7.502      0.000       1.416       2.425\n",
      "unemployment_rate    -0.0258      0.041     -0.623      0.534      -0.107       0.056\n",
      "==============================================================================\n",
      "Omnibus:                       48.786   Durbin-Watson:                   0.003\n",
      "Prob(Omnibus):                  0.000   Jarque-Bera (JB):               13.882\n",
      "Skew:                           0.300   Prob(JB):                     0.000968\n",
      "Kurtosis:                       1.988   Cond. No.                         22.9\n",
      "==============================================================================\n",
      "\n",
      "Notes:\n",
      "[1] Standard Errors assume that the covariance matrix of the errors is correctly specified.\n",
      "R-squared: 0.0016\n",
      "Adjusted R-squared: -0.0026\n",
      "AIC: 731.9417\n"
     ]
    }
   ],
   "source": [
    "import statsmodels.api as sm\n",
    "\n",
    "# Select the predictor\n",
    "predictor = X4_df_copy\n",
    "\n",
    "# Prepare the data\n",
    "X = sm.add_constant(X4_df_copy['unemployment_rate'])  # Add intercept\n",
    "# Create Y\n",
    "Y = df_merged[\"Median_Multiple\"]\n",
    "\n",
    "# Reset indices for X and Y\n",
    "X = X.reset_index(drop=True)\n",
    "Y = Y.reset_index(drop=True)\n",
    "\n",
    "# Fit the model\n",
    "model = sm.OLS(Y, X).fit()\n",
    "\n",
    "# Print model summary\n",
    "print(model.summary())\n",
    "\n",
    "# Extract key metrics\n",
    "r_squared = model.rsquared\n",
    "adjusted_r_squared = model.rsquared_adj\n",
    "aic = model.aic\n",
    "\n",
    "print(f\"R-squared: {r_squared:.4f}\")\n",
    "print(f\"Adjusted R-squared: {adjusted_r_squared:.4f}\")\n",
    "print(f\"AIC: {aic:.4f}\")"
   ]
  },
  {
   "cell_type": "markdown",
   "metadata": {},
   "source": [
    "Discussion regarding unemployement rate:\n",
    "\n",
    "Unemployement rate offers no predictive insight on housing affordability. \n",
    "This may be a relevent consideration regarding the effectiveness of interest rate hikes to contol inflation in the sphere of home affordability."
   ]
  },
  {
   "cell_type": "markdown",
   "metadata": {},
   "source": [
    "Conclusion:\n",
    "\n",
    "Real GDP has a suprisingly strong relationship to home affordability or lack there of as evidenced by my analysis using the Median Multiple in both Linear Regression and classification with a Decision tree. Of the two the Decision Tree is more interesting due to the classification. The very high accuracy score may be due to its nonparametric nature. While the linear relationship is very strong, there is some evidence to suggest that an optimal model may require less bias. \n",
    "\n",
    "This relationship warrents futher investigation and input from subject matter experts. Exploring the generalizability of the relationship to other timeframes and geographical locations is recommended. \n",
    "\n",
    "One could argue that until about 2010 the relationship did not matter as housing was within the realm of affordability for the majority of the population. I would argue that even then it predicts a concerning trend that should have been given more attention.\n",
    "\n",
    "The results suggest that GDP as a predictor of economic health has severe limitations and that new models should be adopted. It informs the current political fragility within what is often refered to as the Liberal World Order and suggests the need for deep introspection and re-evaluation of foundational presumptions about economic freedom. In the absence of wisdom constraints on freedom may arise as a consequence of the results of that freedom.\n",
    "\n",
    "On a personal level one expects that when one increases productive output they get a better result. When we clean our car or mow the lawn we see improvement. If our primary measure of economic production does not produce results we want as a society we should swiftly evaluate its merits. The chart showing the increasing median multiple over time looks dire and is obviously related to the major geopolitical shifts occuring in the world today."
   ]
  },
  {
   "cell_type": "markdown",
   "metadata": {},
   "source": [
    "Sources:\n",
    "\n",
    "Nasiha Salwati, D. W., Tyler Powell, D. W., Michael Ng, D. W., Elaine Kamarck, W. A. G., & Alan J. Auerbach, W. G. G. (2024, January 31). How does the consumer price index account for the cost of housing?. Brookings. https://www.brookings.edu/articles/how-does-the-consumer-price-index-account-for-the-cost-of-housing/ \n",
    "\n",
    "Callen, T. (2008, December). Back to basics: What is gross domestic product?. imf.org. https://www.imf.org/external/pubs/ft/fandd/2008/12/pdf/basics.pdf \n",
    "\n",
    "COX, W. (2024). Demographia International Housing Affordability – 2024 edition released. Demographia International Housing Affordability – 2024 Edition Released | Newgeography.com. https://www.newgeography.com/content/008198-demographia-international-housing-affordability-2024-edition-released \n",
    "\n",
    "Grossman, D. (2024, September 10). Where you live may dictate whether you’re middle-class. Scripps News. https://www.scrippsnews.com/life/money/mastering-your-money/where-you-live-may-dictate-whether-youre-middle-class \n",
    "\n",
    "Galston, W. A. (2020, July). The enduring vulnerability of Liberal Democracy. Journal of Democracy. https://www.journalofdemocracy.org/articles/the-enduring-vulnerability-of-liberal-democracy/ \n",
    "\n",
    "Stobierski, T. (2021, June 8). What is GDP & why is it important?. Business Insights Blog. https://online.hbs.edu/blog/post/why-is-gdp-important \n",
    "\n",
    "Galston, W. A. (2020, July). The enduring vulnerability of Liberal Democracy. Journal of Democracy. https://www.journalofdemocracy.org/articles/the-enduring-vulnerability-of-liberal-democracy/ \n",
    "\n",
    "\n",
    "Datasets:\n",
    "\n",
    "Y =\n",
    "median multiple:\n",
    "MM equation = medium_homeprice / median_income\n",
    "= [\n",
    "Median Home Price Data:\n",
    "source: https://fred.stlouisfed.org/series/MSPUS\n",
    "Quarterly since 1963 - 2024-10-01\n",
    "FileName: 1963-01-01_Med_Home_Price\n",
    "/\n",
    "Real Median Family Income in the United States data source:\n",
    "source: https://fred.stlouisfed.org/series/MEFAINUSA672N#\n",
    "date range...yearly 1953-2023-01-01\n",
    "FileName: MedianUS_income1953\n",
    "]\n",
    "\n",
    "X1 \n",
    "Data for...\n",
    "Real Gross Domestic Product \n",
    "Source: https://fred.stlouisfed.org/series/GDPC1#\n",
    "Saved as...GDPC2\n",
    "date range...1947-01-01 - 2024-10-01\n",
    "Units: Billions of Chained 2017 Dollars | Quarterly\n",
    "\n",
    "X2 (exploratory)\n",
    "Data for... \n",
    "Federal Funds Rate\n",
    "Source: https://fred.stlouisfed.org/series/FEDFUNDS\n",
    "date range: Monthly 1954-07-01 - 2025-02-01\n",
    "Name: FEDFUNDS\n",
    "Units: Percent | Monthly\n",
    "more info: https://www.bankrate.com/rates/interest-rates/federal-funds-rate/\n",
    "\n",
    "X3 (exploratory)\n",
    "Data for...\n",
    "Consumer Price Index for All Urban Consumers: All Items in U.S. City Average (CPIAUCSL)\n",
    "Source: https://fred.stlouisfed.org/series/CPIAUCSL\n",
    "date range: monthly 1947-01-01 - 2025\n",
    "file name: CPIAUCSL\n",
    "\n",
    "X4 (exploratory)\n",
    "Data for \n",
    "US Unemployment Rate\n",
    "Source: https://fred.stlouisfed.org/series/UNRATE/\n",
    "date range: 1948-2025\n",
    "File Name: UNRATE.csv\n",
    "Units: Percent, Seasonally Adjusted\n",
    "\n",
    "\n"
   ]
  }
 ],
 "metadata": {
  "kernelspec": {
   "display_name": "Python 3",
   "language": "python",
   "name": "python3"
  },
  "language_info": {
   "codemirror_mode": {
    "name": "ipython",
    "version": 3
   },
   "file_extension": ".py",
   "mimetype": "text/x-python",
   "name": "python",
   "nbconvert_exporter": "python",
   "pygments_lexer": "ipython3",
   "version": "3.12.8"
  }
 },
 "nbformat": 4,
 "nbformat_minor": 2
}
